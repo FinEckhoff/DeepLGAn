{
 "cells": [
  {
   "cell_type": "code",
   "execution_count": 1,
   "metadata": {},
   "outputs": [],
   "source": [
    "import os\n",
    "from PIL import Image\n",
    "import numpy as np\n",
    "import natsort"
   ]
  },
  {
   "cell_type": "code",
   "execution_count": 2,
   "metadata": {},
   "outputs": [],
   "source": [
    "def load_images_from_folder(folder_path):\n",
    "    images = []\n",
    "    names = []\n",
    "    for filename in natsort.natsorted(os.listdir(folder_path)):\n",
    "        if filename.endswith(('.png', '.jpg', '.jpeg', '.bmp', '.gif', '.tiff')):\n",
    "            names.append(filename)\n",
    "            img_path = os.path.join(folder_path, filename)\n",
    "            img = Image.open(img_path)\n",
    "            img_array = np.array(img)\n",
    "            images.append(img_array)\n",
    "    return images, names"
   ]
  },
  {
   "cell_type": "code",
   "execution_count": null,
   "metadata": {},
   "outputs": [],
   "source": []
  },
  {
   "cell_type": "code",
   "execution_count": 3,
   "metadata": {},
   "outputs": [],
   "source": [
    "folder_path = '/home/fin_eckhoff/Projects/GAN/cpimages'  # Replace with the path to your folder containing images\n",
    "images, names = load_images_from_folder(folder_path)\n",
    "\n",
    "\n"
   ]
  },
  {
   "cell_type": "code",
   "execution_count": 4,
   "metadata": {},
   "outputs": [
    {
     "data": {
      "text/plain": [
       "['image_at_epoch_0001.png',\n",
       " 'image_at_epoch_0002.png',\n",
       " 'image_at_epoch_0003.png',\n",
       " 'image_at_epoch_0004.png',\n",
       " 'image_at_epoch_0005.png',\n",
       " 'image_at_epoch_0006.png',\n",
       " 'image_at_epoch_0007.png',\n",
       " 'image_at_epoch_0008.png',\n",
       " 'image_at_epoch_0009.png',\n",
       " 'image_at_epoch_0010.png',\n",
       " 'image_at_epoch_0011.png',\n",
       " 'image_at_epoch_0012.png',\n",
       " 'image_at_epoch_0013.png',\n",
       " 'image_at_epoch_0014.png',\n",
       " 'image_at_epoch_0015.png',\n",
       " 'image_at_epoch_0016.png',\n",
       " 'image_at_epoch_0017.png',\n",
       " 'image_at_epoch_0018.png',\n",
       " 'image_at_epoch_0019.png',\n",
       " 'image_at_epoch_0020.png',\n",
       " 'image_at_epoch_0021.png',\n",
       " 'image_at_epoch_0022.png',\n",
       " 'image_at_epoch_0023.png',\n",
       " 'image_at_epoch_0024.png',\n",
       " 'image_at_epoch_0025.png',\n",
       " 'image_at_epoch_0026.png',\n",
       " 'image_at_epoch_0027.png',\n",
       " 'image_at_epoch_0028.png',\n",
       " 'image_at_epoch_0029.png',\n",
       " 'image_at_epoch_0030.png',\n",
       " 'image_at_epoch_0031.png',\n",
       " 'image_at_epoch_0032.png',\n",
       " 'image_at_epoch_0033.png',\n",
       " 'image_at_epoch_0034.png',\n",
       " 'image_at_epoch_0035.png',\n",
       " 'image_at_epoch_0036.png',\n",
       " 'image_at_epoch_0037.png',\n",
       " 'image_at_epoch_0038.png',\n",
       " 'image_at_epoch_0039.png',\n",
       " 'image_at_epoch_0040.png',\n",
       " 'image_at_epoch_0041.png',\n",
       " 'image_at_epoch_0042.png',\n",
       " 'image_at_epoch_0043.png',\n",
       " 'image_at_epoch_0044.png',\n",
       " 'image_at_epoch_0045.png',\n",
       " 'image_at_epoch_0046.png',\n",
       " 'image_at_epoch_0047.png',\n",
       " 'image_at_epoch_0048.png',\n",
       " 'image_at_epoch_0049.png',\n",
       " 'image_at_epoch_0050.png',\n",
       " 'image_at_epoch_0051.png',\n",
       " 'image_at_epoch_0052.png',\n",
       " 'image_at_epoch_0053.png',\n",
       " 'image_at_epoch_0054.png',\n",
       " 'image_at_epoch_0055.png',\n",
       " 'image_at_epoch_0056.png',\n",
       " 'image_at_epoch_0057.png',\n",
       " 'image_at_epoch_0058.png',\n",
       " 'image_at_epoch_0059.png',\n",
       " 'image_at_epoch_0060.png',\n",
       " 'image_at_epoch_0061.png',\n",
       " 'image_at_epoch_0062.png',\n",
       " 'image_at_epoch_0063.png',\n",
       " 'image_at_epoch_0064.png',\n",
       " 'image_at_epoch_0065.png',\n",
       " 'image_at_epoch_0066.png',\n",
       " 'image_at_epoch_0067.png',\n",
       " 'image_at_epoch_0068.png',\n",
       " 'image_at_epoch_0069.png',\n",
       " 'image_at_epoch_0070.png',\n",
       " 'image_at_epoch_0071.png',\n",
       " 'image_at_epoch_0072.png',\n",
       " 'image_at_epoch_0073.png',\n",
       " 'image_at_epoch_0074.png',\n",
       " 'image_at_epoch_0075.png',\n",
       " 'image_at_epoch_0076.png',\n",
       " 'image_at_epoch_0077.png',\n",
       " 'image_at_epoch_0078.png',\n",
       " 'image_at_epoch_0079.png']"
      ]
     },
     "execution_count": 4,
     "metadata": {},
     "output_type": "execute_result"
    }
   ],
   "source": [
    "names"
   ]
  },
  {
   "cell_type": "code",
   "execution_count": 5,
   "metadata": {},
   "outputs": [
    {
     "data": {
      "text/plain": [
       "(200, 200, 4)"
      ]
     },
     "execution_count": 5,
     "metadata": {},
     "output_type": "execute_result"
    }
   ],
   "source": [
    "test = images[0]\n",
    "test.shape"
   ]
  },
  {
   "cell_type": "code",
   "execution_count": 8,
   "metadata": {},
   "outputs": [],
   "source": [
    "for i, img_array in enumerate(images):\n",
    "    newImg = (img_array - 127.5) * 2.0\n",
    "    img = Image.fromarray(np.uint8(newImg))\n",
    "    img.save(\"converted/\"+names[i])\n",
    "    "
   ]
  }
 ],
 "metadata": {
  "kernelspec": {
   "display_name": "ML",
   "language": "python",
   "name": "python3"
  },
  "language_info": {
   "codemirror_mode": {
    "name": "ipython",
    "version": 3
   },
   "file_extension": ".py",
   "mimetype": "text/x-python",
   "name": "python",
   "nbconvert_exporter": "python",
   "pygments_lexer": "ipython3",
   "version": "3.12.2"
  }
 },
 "nbformat": 4,
 "nbformat_minor": 2
}
